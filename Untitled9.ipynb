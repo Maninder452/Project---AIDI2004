{
  "nbformat": 4,
  "nbformat_minor": 0,
  "metadata": {
    "colab": {
      "provenance": []
    },
    "kernelspec": {
      "name": "python3",
      "display_name": "Python 3"
    },
    "language_info": {
      "name": "python"
    }
  },
  "cells": [
    {
      "cell_type": "markdown",
      "source": [
        "Basic Command of Print"
      ],
      "metadata": {
        "id": "sb4HUN1zGoQ0"
      }
    },
    {
      "cell_type": "code",
      "source": [
        "print(\"My name is Manraj\")"
      ],
      "metadata": {
        "colab": {
          "base_uri": "https://localhost:8080/"
        },
        "id": "QkPz9FDDGsML",
        "outputId": "f561b376-d220-4021-aa08-9b1f5c5c3ad1"
      },
      "execution_count": null,
      "outputs": [
        {
          "output_type": "stream",
          "name": "stdout",
          "text": [
            "My name is Manraj\n"
          ]
        }
      ]
    },
    {
      "cell_type": "code",
      "source": [
        "print(\"I am 23 years old\")"
      ],
      "metadata": {
        "colab": {
          "base_uri": "https://localhost:8080/"
        },
        "id": "o6oWKWDBHC3V",
        "outputId": "bc0c2c15-3d70-467e-9448-760e2a9cc802"
      },
      "execution_count": null,
      "outputs": [
        {
          "output_type": "stream",
          "name": "stdout",
          "text": [
            "I am 23 years old\n"
          ]
        }
      ]
    },
    {
      "cell_type": "code",
      "source": [
        "print (\"My name is Manraj, I am 23 years old.\")"
      ],
      "metadata": {
        "colab": {
          "base_uri": "https://localhost:8080/"
        },
        "id": "qV-oNxa0HJBe",
        "outputId": "bb0fbcab-f7d7-484e-9127-4eede4ccb159"
      },
      "execution_count": null,
      "outputs": [
        {
          "output_type": "stream",
          "name": "stdout",
          "text": [
            "My name is Manraj, I am 23 years old.\n"
          ]
        }
      ]
    },
    {
      "cell_type": "code",
      "source": [
        "print(\"My name is Manraj\",\n",
        "      \"I am 23 years old.\")"
      ],
      "metadata": {
        "colab": {
          "base_uri": "https://localhost:8080/"
        },
        "id": "JuUJvto2HpQM",
        "outputId": "b477777d-bf17-4283-8ca8-a82fe6705464"
      },
      "execution_count": null,
      "outputs": [
        {
          "output_type": "stream",
          "name": "stdout",
          "text": [
            "My name is Manraj I am 23 years old.\n"
          ]
        }
      ]
    },
    {
      "cell_type": "code",
      "source": [
        "print(23)"
      ],
      "metadata": {
        "colab": {
          "base_uri": "https://localhost:8080/"
        },
        "id": "L3VI7k2JH_6O",
        "outputId": "a6214f12-58a7-40e7-c77e-a74f9d58dd8e"
      },
      "execution_count": null,
      "outputs": [
        {
          "output_type": "stream",
          "name": "stdout",
          "text": [
            "23\n"
          ]
        }
      ]
    },
    {
      "cell_type": "code",
      "source": [
        "print(23+35)"
      ],
      "metadata": {
        "colab": {
          "base_uri": "https://localhost:8080/"
        },
        "id": "0aTctoqzICDR",
        "outputId": "c1b11178-4e4e-44b6-a50d-535ccd43758e"
      },
      "execution_count": null,
      "outputs": [
        {
          "output_type": "stream",
          "name": "stdout",
          "text": [
            "58\n"
          ]
        }
      ]
    },
    {
      "cell_type": "markdown",
      "source": [
        "Area for maths Variable = value"
      ],
      "metadata": {
        "id": "uhmNb42CIbTW"
      }
    },
    {
      "cell_type": "code",
      "source": [
        "x=2\n",
        "y=4\n",
        "Area = x*y\n",
        "print(Area)"
      ],
      "metadata": {
        "colab": {
          "base_uri": "https://localhost:8080/"
        },
        "id": "nLcITSVvIa3l",
        "outputId": "ecd162b5-d814-440e-96fc-2c3109a9feff"
      },
      "execution_count": null,
      "outputs": [
        {
          "output_type": "stream",
          "name": "stdout",
          "text": [
            "8\n"
          ]
        }
      ]
    },
    {
      "cell_type": "code",
      "source": [
        "age = 25"
      ],
      "metadata": {
        "id": "oVWMnNPlM0sI"
      },
      "execution_count": null,
      "outputs": []
    },
    {
      "cell_type": "code",
      "source": [
        "age2 = age"
      ],
      "metadata": {
        "id": "_KELaojGM2zV"
      },
      "execution_count": null,
      "outputs": []
    },
    {
      "cell_type": "code",
      "source": [
        "name = \"Manraj\""
      ],
      "metadata": {
        "id": "5aVDrFkoNMZT"
      },
      "execution_count": null,
      "outputs": []
    },
    {
      "cell_type": "code",
      "source": [
        "age = 23"
      ],
      "metadata": {
        "id": "BZFJOgjdPkrm"
      },
      "execution_count": null,
      "outputs": []
    },
    {
      "cell_type": "code",
      "source": [
        "price = 200.00"
      ],
      "metadata": {
        "id": "nIDijPAvPmr4"
      },
      "execution_count": null,
      "outputs": []
    },
    {
      "cell_type": "code",
      "source": [
        "print(type(name))\n"
      ],
      "metadata": {
        "colab": {
          "base_uri": "https://localhost:8080/",
          "height": 36
        },
        "id": "lyNk9ky6Pp1k",
        "outputId": "42169dd8-f06c-4655-ff18-abbf20fe197a"
      },
      "execution_count": null,
      "outputs": [
        {
          "output_type": "execute_result",
          "data": {
            "text/plain": [
              "\"<class 'str'>\""
            ],
            "application/vnd.google.colaboratory.intrinsic+json": {
              "type": "string"
            }
          },
          "metadata": {},
          "execution_count": 32
        }
      ]
    },
    {
      "cell_type": "code",
      "source": [
        "print(type(age))"
      ],
      "metadata": {
        "colab": {
          "base_uri": "https://localhost:8080/",
          "height": 36
        },
        "id": "YDooWp-vP5J1",
        "outputId": "4d001ca7-b6c4-405c-d31d-974435672081"
      },
      "execution_count": null,
      "outputs": [
        {
          "output_type": "execute_result",
          "data": {
            "text/plain": [
              "\"<class 'int'>\""
            ],
            "application/vnd.google.colaboratory.intrinsic+json": {
              "type": "string"
            }
          },
          "metadata": {},
          "execution_count": 33
        }
      ]
    },
    {
      "cell_type": "code",
      "source": [
        "print(type(price))"
      ],
      "metadata": {
        "colab": {
          "base_uri": "https://localhost:8080/",
          "height": 36
        },
        "id": "LI5fADx1P-Hd",
        "outputId": "666cfbde-e661-4037-be0e-431d051bd426"
      },
      "execution_count": null,
      "outputs": [
        {
          "output_type": "execute_result",
          "data": {
            "text/plain": [
              "\"<class 'float'>\""
            ],
            "application/vnd.google.colaboratory.intrinsic+json": {
              "type": "string"
            }
          },
          "metadata": {},
          "execution_count": 35
        }
      ]
    },
    {
      "cell_type": "code",
      "source": [],
      "metadata": {
        "id": "3eMTk9OfQH-c"
      },
      "execution_count": null,
      "outputs": []
    }
  ]
}